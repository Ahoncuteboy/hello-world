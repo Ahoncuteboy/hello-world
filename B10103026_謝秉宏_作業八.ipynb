{
 "cells": [
  {
   "cell_type": "markdown",
   "metadata": {},
   "source": [
    "# HW8：剪刀、石頭、布遊戲\n",
    "\n",
    "![](https://drive.google.com/uc?export=download&id=1QQU8p6XTixh8Z36iOBf1EYfw4LC1yiKy)\n",
    "\n",
    "# 範例程式碼：\n",
    "\n",
    "```python\n",
    "print(\"歡迎來到剪刀石頭布！ \")\n",
    "name = input(\"請輸入您的名稱：\")\n",
    "\n",
    "user_hand = int(input((\"請出拳： (1) 剪刀 (2) 石頭 (3) 布：\"))\n",
    "# 把剩下的判斷輸贏寫完...\n",
    "```\n",
    "\n",
    "\n",
    "# 挑戰\n",
    "\n",
    "要如何能夠實作出讓電腦自動出拳的功能？\n",
    "\n",
    "\n",
    "\n",
    "# 隨機數 (Random)\n",
    "```python\n",
    "# 匯入 random 模組的功能\n",
    "import random\n",
    "# 隨機回傳範圍 1 到 3 之間的某個整數\n",
    "print(random.randint(1,3))\n",
    "```"
   ]
  },
  {
   "cell_type": "code",
   "execution_count": null,
   "metadata": {},
   "outputs": [],
   "source": [
    "from numpy.random import randint\n",
    "comp_hand_array = randint(1, 4, size = 3)\n",
    "\n",
    "print(\"歡迎來到剪刀石頭布！ \")\n",
    "name = input(\"請輸入您的名稱：\")\n",
    "dictionary = {1:'剪刀', 2:'石頭', 3:'布'}\n",
    "user_score = 0\n",
    "comp_score = 0\n",
    "even = 0\n",
    "\n",
    "for i in range(3):\n",
    "\n",
    "    user_hand_num = int(input((\"請出拳： (1) 剪刀 (2) 石頭 (3) 布：\")) )\n",
    "    user_hand = dictionary[user_hand_num]\n",
    "    comp_hand_num = comp_hand_array[i]\n",
    "    comp_hand = dictionary[comp_hand_num]\n",
    "\n",
    "    if user_hand_num - 1 == comp_hand_num or user_hand_num + 2 == comp_hand_num:\n",
    "        result = '你贏了!'\n",
    "        user_score += 1\n",
    "    elif user_hand_num == comp_hand_num:\n",
    "        result = '平手'\n",
    "        even += 1\n",
    "    else:\n",
    "        result = '你輸了!'\n",
    "        comp_score += 1\n",
    "\n",
    "    print(result)\n",
    "\n",
    "    discription=f'{name} 出了: {user_hand}, 電腦出了: {comp_hand}'\n",
    "    print('=================================================================')\n",
    "    print(discription)\n",
    "    print('=================================================================')\n",
    "\n",
    "ending= f'{name} 分數: {user_score}\\n電腦分數: {comp_score}\\n平手: {even}'\n",
    "print(ending)\n",
    "print('=================================================================')\n",
    "print('感謝你玩剪刀石頭布!')"
   ]
  }
 ],
 "metadata": {
  "kernelspec": {
   "display_name": "Python 3",
   "language": "python",
   "name": "python3"
  },
  "language_info": {
   "codemirror_mode": {
    "name": "ipython",
    "version": 3
   },
   "file_extension": ".py",
   "mimetype": "text/x-python",
   "name": "python",
   "nbconvert_exporter": "python",
   "pygments_lexer": "ipython3",
   "version": "3.8.8"
  }
 },
 "nbformat": 4,
 "nbformat_minor": 4
}
