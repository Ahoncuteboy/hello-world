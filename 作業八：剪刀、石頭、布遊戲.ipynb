{
 "cells": [
  {
   "cell_type": "markdown",
   "metadata": {},
   "source": [
    "# HW8：剪刀、石頭、布遊戲\n",
    "\n",
    "![](https://drive.google.com/uc?export=download&id=1QQU8p6XTixh8Z36iOBf1EYfw4LC1yiKy)\n",
    "\n",
    "# 範例程式碼：\n",
    "\n",
    "```python\n",
    "print(\"歡迎來到剪刀石頭布！ \")\n",
    "name = input(\"請輸入您的名稱：\")\n",
    "\n",
    "user_hand = int(input((\"請出拳： (1) 剪刀 (2) 石頭 (3) 布：\"))\n",
    "# 把剩下的判斷輸贏寫完...\n",
    "```\n",
    "\n",
    "\n",
    "# 挑戰\n",
    "\n",
    "要如何能夠實作出讓電腦自動出拳的功能？\n",
    "\n",
    "\n",
    "\n",
    "# 隨機數 (Random)\n",
    "```python\n",
    "# 匯入 random 模組的功能\n",
    "import random\n",
    "# 隨機回傳範圍 1 到 3 之間的某個整數\n",
    "print(random.randint(1,3))\n",
    "```"
   ]
  },
  {
   "cell_type": "code",
   "execution_count": null,
   "metadata": {},
   "outputs": [],
   "source": []
  }
 ],
 "metadata": {
  "kernelspec": {
   "display_name": "Python 3",
   "language": "python",
   "name": "python3"
  },
  "language_info": {
   "codemirror_mode": {
    "name": "ipython",
    "version": 3
   },
   "file_extension": ".py",
   "mimetype": "text/x-python",
   "name": "python",
   "nbconvert_exporter": "python",
   "pygments_lexer": "ipython3",
   "version": "3.8.5"
  }
 },
 "nbformat": 4,
 "nbformat_minor": 4
}
