{
 "cells": [
  {
   "cell_type": "markdown",
   "metadata": {},
   "source": [
    "# 成長模型（Growth Model）\n",
    "\n",
    "---\n",
    "## 我們需要考慮以下幾個問題：\n",
    "\n",
    "1. 經濟是如何增長的？\n",
    "2. 爲何有些國家變得越來越富有，而有些國家則是變得越來越窮？\n",
    "3. 如何用數學模型來詮釋經濟增長？\n",
    "\n",
    "---\n",
    "\n",
    "## 我們會參考以下幾個模型：\n",
    "\n",
    "從簡單到複雜:\n",
    "\n",
    "1. 指數增長（Exponential growth）\n",
    "2. 柯布-道格拉斯模型（Cobb–Douglas production function）\n",
    "3. 索洛模型（Solow's Growth Model）\n"
   ]
  },
  {
   "cell_type": "markdown",
   "metadata": {},
   "source": [
    "## 指數增長\n",
    "\n",
    "一個今典的指數型增長案例就是複利的概念，假設 X 是本金，R 是定存利率：\n",
    "\n",
    "```python\n",
    "X = Dollar\n",
    "R = interest rate\n",
    "```\n",
    "\n",
    "---\n",
    "\n",
    "## 一年後的本金加利息\n",
    "\n",
    "\n",
    "$100(1 + 0.05) = 105$\n",
    "\n",
    "\n",
    "\n",
    "## 兩年後\n",
    "\n",
    "\n",
    "$100(1+0.05)^2 = 110.25$\n",
    "\n",
    "\n",
    "## 我們來假設一個狀況\n",
    "\n",
    "若我們今天是每一天發一次利息，而利率則是拆解到 $ \\frac{1}{365} $\n",
    "\n",
    "我們可以得到：\n",
    "\n",
    "$ 100(1 + \\frac{0.05}{ 365 })^{365}$\n",
    "\n",
    "若是每小時，每分鐘發一次利息呢？"
   ]
  },
  {
   "cell_type": "code",
   "execution_count": 7,
   "metadata": {},
   "outputs": [
    {
     "data": {
      "text/plain": [
       "105.0"
      ]
     },
     "execution_count": 7,
     "metadata": {},
     "output_type": "execute_result"
    }
   ],
   "source": [
    "100 * (1 + 0.05)"
   ]
  },
  {
   "cell_type": "code",
   "execution_count": 8,
   "metadata": {},
   "outputs": [
    {
     "data": {
      "text/plain": [
       "105.12674964674473"
      ]
     },
     "execution_count": 8,
     "metadata": {},
     "output_type": "execute_result"
    }
   ],
   "source": [
    "100 * (1 + 0.05 / 365) ** 365"
   ]
  },
  {
   "cell_type": "code",
   "execution_count": 9,
   "metadata": {},
   "outputs": [
    {
     "data": {
      "text/plain": [
       "105.12709463661045"
      ]
     },
     "execution_count": 9,
     "metadata": {},
     "output_type": "execute_result"
    }
   ],
   "source": [
    "100 * (1 + 0.05 / (365 * 24)) ** (365 * 24)"
   ]
  },
  {
   "cell_type": "markdown",
   "metadata": {},
   "source": [
    "## 把複利寫成數學公式\n",
    "\n",
    "$ (1 + \\frac{r}{ n })^{nt}$\n",
    "\n",
    "\n",
    "---\n",
    "## 若我們把發利息的期數變得無限大\n",
    "\n",
    "$ \\lim_{n \\to +\\infty}(1 + \\frac{r}{ n })^{nt}$\n",
    "\n",
    "我們可以得到： \n",
    "\n",
    "$ e^{rt}  $\n",
    "\n",
    "這是一個指數型的成長\n",
    "\n",
    "---\n",
    "## 透過此我們可以發現\n",
    "\n",
    "若我們**加快循環的頻率**，即使我們把每一次的增長拆解到很小，長遠來看，我們依然可以得到一個指數型的成長。\n",
    "\n",
    "\n",
    "---\n",
    "## 軟體產品開發的八字箴言\n",
    "\n",
    "小步快跑，快速迭代"
   ]
  },
  {
   "cell_type": "code",
   "execution_count": null,
   "metadata": {},
   "outputs": [],
   "source": []
  },
  {
   "cell_type": "markdown",
   "metadata": {},
   "source": [
    "## 柯布-道格拉斯模型（Cobb–Douglas production function）\n",
    "\n",
    "我們定義：\n",
    "\n",
    "1. 工人（勞動力）\n",
    "2. 鳳梨（經濟產出）\n",
    "3. 采收鳳梨的機器（資本）\n",
    "4. 機器會隨著時間耗損\n",
    "\n",
    "---\n",
    "## 我們定義以下變量\n",
    "\n",
    "$$\n",
    "L_t = 勞工數量\\\\\n",
    "M_t = 機器數量\\\\ \n",
    "O_t = 產出的鳳梨數量\\\\\n",
    "E_t = 消耗掉的鳳梨數量\\\\\n",
    "S = 儲蓄率\\\\\n",
    "d  = 機器折舊率\n",
    "$$\n",
    "\n",
    "---\n",
    "## 柯布-道格拉斯模型\n",
    "\n",
    "### 假設 1：\n",
    "\n",
    "產出的鳳梨數量來自勞工和機器\n",
    "\n",
    "$O_t = \\sqrt[]{L_t} \\sqrt[]{M_t}$\n",
    "\n",
    "### 假設 2：\n",
    "\n",
    "產出的鳳梨會被消耗掉或是儲蓄起來\n",
    "\n",
    "$O_t = E_t + I_t$\n",
    "\n",
    "$I_t = SO_t$\n",
    "\n",
    "### 假設 3：\n",
    "\n",
    "下一年的機器數量\n",
    "\n",
    "$M_{t+1} = M_t + I_t - dM_t$"
   ]
  },
  {
   "cell_type": "code",
   "execution_count": null,
   "metadata": {},
   "outputs": [],
   "source": []
  },
  {
   "cell_type": "markdown",
   "metadata": {},
   "source": [
    "## 計算第一年\n",
    "\n",
    "假設一開始：\n",
    "\n",
    "- 我們的機器數量 $M=4$\n",
    "- 勞工數量 $L=100$\n",
    "- 儲蓄率是 $S=0.3$\n",
    "- 折舊率是 $d=0.25$\n",
    "\n",
    "\n",
    "請計算：\n",
    "\n",
    "1. 產出的鳳梨數量\n",
    "2. 投資的機器數量\n",
    "3. 折舊的機器數量\n"
   ]
  },
  {
   "cell_type": "code",
   "execution_count": null,
   "metadata": {},
   "outputs": [],
   "source": []
  },
  {
   "cell_type": "markdown",
   "metadata": {},
   "source": [
    "## 計算第二年\n",
    "\n",
    "根據第一年的資料，請計算：\n",
    "\n",
    "1. 產出的鳳梨數量\n",
    "2. 投資的機器數量\n",
    "3. 折舊的機器數量\n"
   ]
  },
  {
   "cell_type": "code",
   "execution_count": null,
   "metadata": {},
   "outputs": [],
   "source": []
  },
  {
   "cell_type": "markdown",
   "metadata": {},
   "source": [
    "## 這是否意味...\n",
    "\n",
    "只要持續增加機器數量，產出的鳳梨數量就會繼續增加？\n",
    "\n",
    "若今天機器數量 $M=400$，請計算：\n",
    "\n",
    "1. 產出的鳳梨數量\n",
    "2. 投資的機器數量\n",
    "3. 折舊的機器數量\n"
   ]
  },
  {
   "cell_type": "code",
   "execution_count": null,
   "metadata": {},
   "outputs": [],
   "source": []
  },
  {
   "cell_type": "markdown",
   "metadata": {},
   "source": [
    "## 我們發現...\n",
    "\n",
    "機器數量是不可能增長到 400 的...\n",
    "\n",
    "## 原因\n",
    "\n",
    "注意**勞動力和資本都是邊際效應遞減的**。\n",
    "\n",
    "爲何會發生這樣的現象？因爲工人能夠操作的機器是有限的。\n",
    "\n",
    "所以依照目前的模型，我們會到達一個**均衡點（Equlibrium）**\n",
    "\n",
    "---\n",
    "## 練習：\n",
    "\n",
    "請思考，在什麽樣的狀況下，我們的模型會達到**均衡點**？\n",
    "\n",
    "並且計算出當投資的機器增加到第幾台時，產出的鳳梨數量會停止成長？\n"
   ]
  },
  {
   "cell_type": "code",
   "execution_count": null,
   "metadata": {},
   "outputs": [],
   "source": []
  },
  {
   "cell_type": "markdown",
   "metadata": {},
   "source": [
    "Ans: \n",
    "\n",
    "$$\n",
    "M=144\\\\\n",
    "O=120\\\\\n",
    "$$\n",
    "\n",
    "---\n",
    "\n",
    "## 如果只依靠勞動力和投資\n",
    "\n",
    "一切經濟增長都會有到頭之日\n",
    "\n",
    "---\n",
    "## 要如何才能有可持續的經濟增長？\n",
    "\n",
    "這可是一個得了諾貝經濟學爾獎的問題"
   ]
  },
  {
   "cell_type": "markdown",
   "metadata": {},
   "source": [
    "## 索洛模型（Solow's Growth Model）\n",
    "\n",
    "我們在原本的模型上多加一個變量 $A_t$：\n",
    "\n",
    "$$\n",
    "O_t = A_tK_t^{\\beta}L_t^{1-\\beta} \\\\\n",
    "$$\n",
    "\n",
    "而：\n",
    "\n",
    "$$\n",
    "L_t = 勞工數量\\\\\n",
    "K_t = 資本\\\\ \n",
    "A_t = 技術進步乘數\\\\\n",
    "O_t = 產出的鳳梨數量\\\\\n",
    "$$\n",
    "\n",
    "$\\beta$ 越高代表技術越仰賴資本。\n",
    "\n",
    "爲了方便推導，我們假設 $\\beta = \\frac{1}{2}$：\n",
    "\n",
    "$$\n",
    "O_t = A_t\\sqrt[]{K_t} \\sqrt[]{L_t}\n",
    "$$\n",
    "\n",
    "## 練習：\n",
    "\n",
    "假設： \n",
    "\n",
    "$A=2\\\\L_t=100$\n",
    "\n",
    "請找出均衡點，並且計算出均衡點的 $K$ 以及 $O$：\n",
    "\n",
    "---\n",
    "Ans: \n",
    "\n",
    "$$\n",
    "K=576\\\\\n",
    "O=480\\\\\n",
    "$$\n",
    "\n",
    "---\n",
    "## 我們發現\n",
    "\n",
    "1. 當技術進步，使用同樣的人力而且同樣大小的固定資本投資，你的產出就會是以倍數增長\n",
    "\n",
    "2. $A$ 有兩個效應，一個是能直接增加產出，會導致相對於同樣的折舊，投資也會增加\n",
    "\n",
    "---\n",
    "## 但是模型無法告訴我們的是...\n",
    "\n",
    "技術進步這件事是無法預測的...\n",
    "\n",
    "什麽時候會發生技術進步，這事主要看天\n",
    "\n",
    "---\n",
    "## 最後提幾本書...\n",
    "\n",
    "\n",
    "---\n",
    "## The Great Escape\n",
    "\n",
    "Angus Deaton《財富大逃亡》\n",
    "\n",
    "書名是雙關語，源自一部經典電影\n",
    "\n",
    "---\n",
    "## The Great Escape\n",
    "\n",
    "- 人類大體免於飢餓、匱乏、瘟疫是最近兩三百年的事\n",
    "- 救星是工業革命\n",
    "- 工業革命是人類第一次打破成長的天花板，擺脫農業社會的循環\n",
    "- 經濟成長能不能獲得一個逃逸的速度，這要看技術進不進步\n",
    "\n",
    "---\n",
    "## The Rise and Fall of American Growth\n",
    "\n",
    "Robert Gordon《美國增長之起落》\n",
    "\n",
    "---\n",
    "## The Rise and Fall of American Growth\n",
    "\n",
    "- 看歷史數據，Gordon 認爲美國經濟成長最快的階段是 1920 年到 1970 年這半個世紀\n",
    "\n",
    "- 增長的動力來自電、內燃機、以及圍繞著這些核心技術的一整套技術的應用\n",
    "\n",
    "- 但可惜的是，電和內燃機帶來的增長都已經發生了\n",
    "\n",
    "- 未來的技術進步會不會帶來類似的成長，他的看法很悲觀。\n",
    "\n",
    "---\n",
    "## 增長並非天注定\n",
    "\n",
    "當我們成長到一個地步之後，接受成長放緩的事實。\n",
    "\n",
    "逆天的事不要做太多太久，平心靜氣慢慢爬，反而更有希望爬到那個高原上去。\n",
    "\n",
    "## 問答題\n",
    "\n",
    "1. 在學習了 Solow 模型之後，看看中國過去幾年的經濟成長，請解釋什麽樣的情況造成了中國過去的高經濟成長？你覺得中國在未來是否能夠繼續維持長期的高經濟成長？\n",
    "\n",
    "2. 在學習了 Solow 模型之後，回頭看看台灣，在過去 30 年我們的經濟高度仰賴高科技代工，而到了現在我們的經濟依然高度仰賴高科技代工，這是否是一個好的現象？同意或不同意，請提出你的解釋。\n",
    "\n",
    "3. 在學習了三個成長模型之後，你是否能夠將這些模型應用到個人的成長上？請提出你的想法和洞見。\n"
   ]
  },
  {
   "cell_type": "code",
   "execution_count": null,
   "metadata": {},
   "outputs": [],
   "source": []
  }
 ],
 "metadata": {
  "kernelspec": {
   "display_name": "Python 3",
   "language": "python",
   "name": "python3"
  },
  "language_info": {
   "codemirror_mode": {
    "name": "ipython",
    "version": 3
   },
   "file_extension": ".py",
   "mimetype": "text/x-python",
   "name": "python",
   "nbconvert_exporter": "python",
   "pygments_lexer": "ipython3",
   "version": "3.8.5"
  }
 },
 "nbformat": 4,
 "nbformat_minor": 4
}
